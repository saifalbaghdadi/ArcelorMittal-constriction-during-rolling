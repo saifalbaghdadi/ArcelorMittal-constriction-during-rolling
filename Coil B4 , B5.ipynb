{
 "cells": [
  {
   "cell_type": "code",
   "execution_count": null,
   "id": "7c6928b2",
   "metadata": {},
   "outputs": [],
   "source": [
    "import pandas as pd\n",
    "import matplotlib.pyplot as plt"
   ]
  },
  {
   "cell_type": "code",
   "execution_count": null,
   "id": "d64049df",
   "metadata": {},
   "outputs": [],
   "source": [
    "B4 = pd.read_csv('./SignalExport/10060b4.csv')\n",
    "B5 = pd.read_csv('./SignalExport/10060b5.csv')"
   ]
  },
  {
   "cell_type": "code",
   "execution_count": null,
   "id": "315e7f71",
   "metadata": {},
   "outputs": [],
   "source": [
    "df_B4 = list(B4.columns)[0].split(\";\")\n",
    "df_B5 = list(B5.columns)[0].split(\";\")"
   ]
  },
  {
   "cell_type": "code",
   "execution_count": null,
   "id": "b0a2fbab",
   "metadata": {},
   "outputs": [],
   "source": [
    "df_B4"
   ]
  },
  {
   "cell_type": "code",
   "execution_count": null,
   "id": "8eab5d37",
   "metadata": {},
   "outputs": [],
   "source": [
    "df_B5"
   ]
  },
  {
   "cell_type": "code",
   "execution_count": null,
   "id": "991cb3e0",
   "metadata": {},
   "outputs": [],
   "source": [
    "length_B4 = df_B4.index(\"Lengthpoints:\")\n",
    "width_B4 = df_B4.index(\"Values\")"
   ]
  },
  {
   "cell_type": "code",
   "execution_count": null,
   "id": "4daa860e",
   "metadata": {},
   "outputs": [],
   "source": [
    "length_B5 = df_B5.index(\"Lengthpoints:\") \n",
    "width_B5 = df_B5.index(\"Values\")"
   ]
  },
  {
   "cell_type": "code",
   "execution_count": null,
   "id": "50f75f1e",
   "metadata": {},
   "outputs": [],
   "source": [
    "# Slicing the dataframe B4\n",
    "coil_number_B4 = df_B4[0]\n",
    "coil_stage_B4 = df_B4[1]\n",
    "length_B4 = df_B4[length_B4 + 1:width_B4]   \n",
    "width_B4 = df_B4[width_B4 + 1:-1]"
   ]
  },
  {
   "cell_type": "code",
   "execution_count": null,
   "id": "d65b44ac",
   "metadata": {},
   "outputs": [],
   "source": [
    "# Slicing the dataframe B5  \n",
    "coil_number_B5 = df_B5[0]\n",
    "coil_stage_B5 = df_B5[1]\n",
    "length_B5 = df_B5[length_B5 + 1: width_B5]   \n",
    "width_B5 = df_B5[width_B5 + 1:-1]"
   ]
  },
  {
   "cell_type": "code",
   "execution_count": null,
   "id": "f187c63a",
   "metadata": {},
   "outputs": [],
   "source": [
    "print(len(coil_number_B4))  # Checking the number in the lists\n",
    "print(len(length_B4))\n",
    "print(len(width_B4))"
   ]
  },
  {
   "cell_type": "code",
   "execution_count": null,
   "id": "c755c1f6",
   "metadata": {},
   "outputs": [],
   "source": [
    "print(len(coil_number_B5))\n",
    "print(len(length_B5))\n",
    "print(len(width_B5))"
   ]
  },
  {
   "cell_type": "code",
   "execution_count": null,
   "id": "134a4f5f",
   "metadata": {},
   "outputs": [],
   "source": [
    "# measurements length and width from string to float \n",
    "length_B4 = [float(i) for i in length_B4]\n",
    "width_B4 = [float(i) for i in width_B4]"
   ]
  },
  {
   "cell_type": "code",
   "execution_count": null,
   "id": "9f82f382",
   "metadata": {},
   "outputs": [],
   "source": [
    "length_B5 = [float(i) for i in length_B5] \n",
    "width_B5 = [float(i) for i in width_B5]"
   ]
  },
  {
   "cell_type": "code",
   "execution_count": null,
   "id": "38514498",
   "metadata": {},
   "outputs": [],
   "source": [
    "coil_values_B4 = [coil_number_B4 for i in range(len(length_B4))]  # Duplicate the coil number\n",
    "coil_values_B5 = [coil_number_B5 for i in range(len(length_B5))]  # Duplicate the coil number"
   ]
  },
  {
   "cell_type": "code",
   "execution_count": null,
   "id": "81348951",
   "metadata": {},
   "outputs": [],
   "source": [
    "coil_stage_values_B4 = [coil_stage_B4 for i in range(len(length_B4))]  # Duplicate the coil stage\n",
    "coil_stage_values_B5 = [coil_stage_B5 for i in range(len(length_B5))]"
   ]
  },
  {
   "cell_type": "code",
   "execution_count": null,
   "id": "a75730d1",
   "metadata": {},
   "outputs": [],
   "source": [
    "data_B4 = pd.DataFrame() # Create empty dataframe \n",
    "data_B5 = pd.DataFrame()"
   ]
  },
  {
   "cell_type": "code",
   "execution_count": null,
   "id": "5190a606",
   "metadata": {},
   "outputs": [],
   "source": [
    "coil_values_B4 = pd.Series(coil_values_B4)\n",
    "coil_stage_values_B4 = pd.Series(coil_stage_values_B4)\n",
    "length_values_B4 = pd.Series(length_B4)\n",
    "width_values_B4 = pd.Series(width_B4)"
   ]
  },
  {
   "cell_type": "code",
   "execution_count": null,
   "id": "736aa1c2",
   "metadata": {},
   "outputs": [],
   "source": [
    "coil_values_B5 = pd.Series(coil_values_B5)\n",
    "coil_stage_values_B5 = pd.Series(coil_stage_values_B5)\n",
    "length_values_B5 = pd.Series(length_B5)\n",
    "width_values_B5 = pd.Series(width_B5)"
   ]
  },
  {
   "cell_type": "code",
   "execution_count": null,
   "id": "b414a1c8",
   "metadata": {},
   "outputs": [],
   "source": [
    "data_B4['coil_number'] = coil_values_B4\n",
    "data_B4['coil_stage'] = coil_stage_values_B4\n",
    "data_B4['length'] = length_values_B4\n",
    "data_B4['width'] = width_values_B4"
   ]
  },
  {
   "cell_type": "code",
   "execution_count": null,
   "id": "81c6a2a1",
   "metadata": {},
   "outputs": [],
   "source": [
    "data_B5['coil_number'] = coil_values_B5\n",
    "data_B5['coil_stage'] = coil_stage_values_B5\n",
    "data_B5['length'] = length_values_B5\n",
    "data_B5['width'] = width_values_B5"
   ]
  },
  {
   "cell_type": "code",
   "execution_count": null,
   "id": "af89bb6f",
   "metadata": {},
   "outputs": [],
   "source": [
    "data_B4.head(10)"
   ]
  },
  {
   "cell_type": "code",
   "execution_count": null,
   "id": "1ef67970",
   "metadata": {},
   "outputs": [],
   "source": [
    "data_B5.head(10)"
   ]
  },
  {
   "cell_type": "code",
   "execution_count": null,
   "id": "5bca0326",
   "metadata": {},
   "outputs": [],
   "source": [
    "data_B4 = data_B4[(data_B4 != 0).all(1)] # Drop zeros\n",
    "data_B4"
   ]
  },
  {
   "cell_type": "code",
   "execution_count": null,
   "id": "b49dd7ef",
   "metadata": {},
   "outputs": [],
   "source": [
    "data_B5 = data_B5[(data_B5 != 0).all(1)]\n",
    "data_B5.head(15)"
   ]
  },
  {
   "cell_type": "code",
   "execution_count": null,
   "id": "8c20877a",
   "metadata": {},
   "outputs": [],
   "source": [
    "x_B4 = data_B4.loc[(data_B4['length'] >= 140) & (data_B4['length'] <= 170)]\n",
    "x_B4.shape"
   ]
  },
  {
   "cell_type": "code",
   "execution_count": null,
   "id": "25a180ba",
   "metadata": {},
   "outputs": [],
   "source": [
    "x_B5 = data_B5.loc[(data_B5['length'] >= 140) & (data_B5['length'] <= 170)]\n",
    "x_B5.shape"
   ]
  },
  {
   "cell_type": "code",
   "execution_count": null,
   "id": "8956f9a8",
   "metadata": {},
   "outputs": [],
   "source": [
    "plt.plot(x_B4.length,x_B4.width,\"black\",label =\"B4\")\n",
    "plt.plot(x_B5.length,x_B5.width,\"red\",label = \"B5\")\n",
    "plt.rcParams[\"figure.figsize\"] = (10,14)\n",
    "plt.legend()\n",
    "plt.show()"
   ]
  }
 ],
 "metadata": {
  "kernelspec": {
   "display_name": "Python 3 (ipykernel)",
   "language": "python",
   "name": "python3"
  },
  "language_info": {
   "codemirror_mode": {
    "name": "ipython",
    "version": 3
   },
   "file_extension": ".py",
   "mimetype": "text/x-python",
   "name": "python",
   "nbconvert_exporter": "python",
   "pygments_lexer": "ipython3",
   "version": "3.10.4"
  }
 },
 "nbformat": 4,
 "nbformat_minor": 5
}
