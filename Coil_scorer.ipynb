{
 "cells": [
  {
   "cell_type": "code",
   "execution_count": 4,
   "metadata": {},
   "outputs": [],
   "source": [
    "import numpy as np\n",
    "import pandas as pd\n",
    "import matplotlib.pyplot as plt\n",
    "from typing import List, Tuple, Union"
   ]
  },
  {
   "cell_type": "code",
   "execution_count": 5,
   "metadata": {},
   "outputs": [],
   "source": [
    "### Get a list of all files in the SignalExport folder\n",
    "\n",
    "import os\n",
    "\n",
    "coil_list = os.listdir('./SignalExport')\n",
    "coil_list.sort()"
   ]
  },
  {
   "cell_type": "code",
   "execution_count": 6,
   "metadata": {},
   "outputs": [],
   "source": [
    "### load the CoilData.csv file\n",
    "\n",
    "coil_data = pd.read_csv('./CoilData/CoilData.csv')\n",
    "coil_data = coil_data.set_index('coil').sort_index()"
   ]
  },
  {
   "cell_type": "markdown",
   "metadata": {},
   "source": [
    "# Overview of functions"
   ]
  },
  {
   "cell_type": "markdown",
   "metadata": {},
   "source": [
    "In this section we introduce a number of functions that will help us identify constrictions. For each coil in the SignalExport folder we want to perform the following steps:\n",
    "<ol>\n",
    "    <li> Retrieve the length and width values (get_values) <li\\>\n",
    "    <li> Check if the sizes of these lists match (check_size) <li\\>\n",
    "    <li> Check if there are no extreme values (check_extreme) <li\\>\n",
    "    <li> Check if the B4 curve is below the B5 curve in the interval [80:140] (upside_down()) <li\\>\n",
    "    <li> Chop the interval into 30 pieces and average over these pieces (average()) <li\\>\n",
    "    <li> Calculate error and put into a dataframe <li\\>\n",
    "</ol>\n",
    "\n",
    "For each step we create a seperate function"
   ]
  },
  {
   "cell_type": "code",
   "execution_count": 7,
   "metadata": {},
   "outputs": [],
   "source": [
    "def get_values(coil_number: Union[int, str], B:str) -> Tuple[List[float], List[float]]:\n",
    "    '''\n",
    "    Returns the the x-values and y-values of a given coil before or after hot rolling (B4 or B5)\n",
    "\n",
    "    :param coil_number: str or int the is the coil number\n",
    "    :param B: str that is either B4 or B5\n",
    "\n",
    "    returns two lists\n",
    "    '''\n",
    "    data = []\n",
    "    with open('./SignalExport/'+str(coil_number)+ B +'.csv', 'r') as file:\n",
    "        string = file.read()\n",
    "        data = string.split(';')\n",
    "    if 'Values' in data:\n",
    "        start_y = data.index('Values')\n",
    "        y_val = data[start_y+1:-1]\n",
    "    else:\n",
    "        y_val = [] \n",
    "    if 'Lengthpoints:' in data:\n",
    "        start_x = data.index('Lengthpoints:')\n",
    "        x_val = data[start_x+1:start_y]\n",
    "    else:\n",
    "        x_val = []  \n",
    "    x_val = list(map(float, x_val))\n",
    "    y_val = list(map(float, y_val))\n",
    "    return x_val, y_val\n",
    "    "
   ]
  },
  {
   "cell_type": "code",
   "execution_count": 8,
   "metadata": {},
   "outputs": [],
   "source": [
    "def size_check(x_val: List[float],  y_val: List[float]) -> bool:\n",
    "    ''' \n",
    "    Function that checks wether the size of x_val and y_val are equal and stricly positive\n",
    "    \n",
    "    :param x_val, y_val:  two lists\n",
    "    \n",
    "    return a Boolean\n",
    "    '''\n",
    "    if y_val and len(x_val) == len(y_val):\n",
    "        return True\n",
    "    else:\n",
    "        False"
   ]
  },
  {
   "cell_type": "code",
   "execution_count": 9,
   "metadata": {},
   "outputs": [],
   "source": [
    "def get_y_interval(x_val: List[float],  y_val: List[float], lower: int, upper: int) -> np.array:\n",
    "    '''\n",
    "    Function that returns a list of y_values based on where the x_values fall inbetween the lower and upper values\n",
    "\n",
    "    :param x_val: lists of floats\n",
    "    :param y_val: lists of floats\n",
    "    :param lower: int that represents the lower bound\n",
    "    :param upper: int that represents the upper bound\n",
    "    '''\n",
    "    return np.array([y_val[i] for i in range(len(y_val)) if x_val[i]>lower and x_val[i]<upper])"
   ]
  },
  {
   "cell_type": "code",
   "execution_count": 10,
   "metadata": {},
   "outputs": [],
   "source": [
    "def extreme_check(x_val: List[float], y_val:List[float]) -> bool:\n",
    "    '''\n",
    "    Function that checks if y_val has no values below 1000 on the indices where x_val is between 100 and 170\n",
    "\n",
    "    :param x_val: lists of floats\n",
    "    :param y_val: lists of floats \n",
    "    '''\n",
    "    y_val_sub = get_y_interval(x_val, y_val, 100, 170)\n",
    "    if y_val_sub.min()<1000:\n",
    "        return False\n",
    "    else:\n",
    "        return True"
   ]
  },
  {
   "cell_type": "code",
   "execution_count": 11,
   "metadata": {},
   "outputs": [],
   "source": [
    "def upside_down(x_val_B4: List[float], y_val_B4: List[float], x_val_B5: List[float], y_val_B5: List[float]) -> np.array:\n",
    "    '''\n",
    "    Function that checks if the B5 curve is consistently above the B4 curve. \n",
    "    It returns the difference of the average values of B4 and B5 in the interval [120, 140].\n",
    "\n",
    "    :param x_val_B4: lists of floats\n",
    "    :param y_val_B4: lists of floats\n",
    "    :param x_val_B5: lists of floats\n",
    "    :param y_val_B5: lists of floats\n",
    "    '''\n",
    "    y_B4 = get_y_interval(x_val_B4, y_val_B4, 120, 140).mean()\n",
    "    y_B5 = get_y_interval(x_val_B5, y_val_B5, 120, 140).mean()\n",
    "    return y_B4-y_B5\n",
    "    "
   ]
  },
  {
   "cell_type": "code",
   "execution_count": 12,
   "metadata": {},
   "outputs": [],
   "source": [
    "def average(x_val: List[float], y_val:List[float], length: int, lower: int, upper: int) -> np.array:\n",
    "    '''\n",
    "    Function that returns a numpy array. The interval [140:170] is chopped in pieces of length 'length'.\n",
    "    For each piece the average of the y-values in this piece is calculated. Each of these values\n",
    "    are put into a numpy array\n",
    "\n",
    "    :params x-val: list of int representing the x-values of a coil\n",
    "    :params y-val: list of int representing the y-values of a coil\n",
    "    :param length: int that is the length of a piece\n",
    "    :param lower: int that represents the lower bound\n",
    "    :param upper: int that represents the upper bound\n",
    "    '''\n",
    "    n = int((upper-lower)/length)\n",
    "    index=0\n",
    "    while x_val[index]<lower:\n",
    "        index+=1\n",
    "    y_means = []\n",
    "    for i in range(n):\n",
    "        sum = 0\n",
    "        subindex = 0\n",
    "        while x_val[index]<lower+1+i*length:\n",
    "            sum += y_val[index]\n",
    "            index += 1\n",
    "            subindex += 1\n",
    "        if subindex != 0:\n",
    "            y_means.append(sum/subindex)\n",
    "        else:\n",
    "            y_means.append(0)\n",
    "    return np.array(y_means)\n",
    "    "
   ]
  },
  {
   "cell_type": "code",
   "execution_count": 13,
   "metadata": {},
   "outputs": [],
   "source": [
    "def max_score(y_means_B4: List[float], y_means_B5: List[float]) -> float:\n",
    "    '''\n",
    "    Function that returns the maximum positive difference between two lists\n",
    "\n",
    "    :param y_means_B4: list of floats\n",
    "    :param y_means_B5: list of floats\n",
    "    '''\n",
    "    return (y_means_B4-y_means_B5).max()\n",
    "\n",
    "def sqr_score(y_means_B4: List[float], y_means_B5: List[float]) -> float:\n",
    "    '''\n",
    "    Function that returns the sum of the squares of positive differences between two lists\n",
    "\n",
    "    :param y_means_B4: list of floats\n",
    "    :param y_means_B5: list of floats\n",
    "    '''\n",
    "    return np.array([i**2 for i in y_means_B4-y_means_B5 if i>0]).sum()"
   ]
  },
  {
   "cell_type": "markdown",
   "metadata": {},
   "source": [
    "## Calculating the error"
   ]
  },
  {
   "cell_type": "markdown",
   "metadata": {},
   "source": [
    "We repeat how the pandas dataframe is created:\n",
    "<ol>\n",
    "    <li> Retrieve the length and width values (get_values) <li\\>\n",
    "    <li> Check if the sizes of these lists match (check_size) <li\\>\n",
    "    <li> Check if there are no extreme values (check_extreme) <li\\>\n",
    "    <li> Check if the B4 curve is below the B5 curve in the interval [80:140] (upside_down()) <li\\>\n",
    "    <li> Chop the interval into 30 pieces and average over these pieces (average()) <li\\>\n",
    "    <li> Calculate error and put into a dataframe <li\\>\n",
    "</ol>"
   ]
  },
  {
   "cell_type": "code",
   "execution_count": 14,
   "metadata": {},
   "outputs": [],
   "source": [
    "def score_table(score_type: str) -> pd.Series:\n",
    "    '''\n",
    "    Function that creates a pandas Series with scores for each coil\n",
    "\n",
    "    :param score_type: str that must be either Sqr or Max depending on the type of scoring one uses\n",
    "    '''\n",
    "    dict = {}\n",
    "    for coil in coil_data.index:\n",
    "        \n",
    "            #Check if we have the data of a given coil\n",
    "            if (str(coil)+'B4'+'.csv' not in coil_list) or (str(coil)+'B5'+ '.csv' not in coil_list):\n",
    "                continue\n",
    "\n",
    "            #retrieve the data\n",
    "            x_val_B4, y_val_B4 = get_values(coil, 'B4')\n",
    "            x_val_B5, y_val_B5 = get_values(coil, 'B5')\n",
    "\n",
    "            # check the sizes of the lists\n",
    "            if not (size_check(x_val_B4, y_val_B4) and size_check(x_val_B5, y_val_B5)):\n",
    "                continue\n",
    "        \n",
    "            #check for extreme values\n",
    "            if not (extreme_check(x_val_B4, y_val_B4) and extreme_check(x_val_B5, y_val_B5)):\n",
    "                continue\n",
    "        \n",
    "            # check if the curves are well-behaved before [140,170]\n",
    "            faulty_measurement = upside_down(x_val_B4, y_val_B4, x_val_B5, y_val_B5)\n",
    "            if faulty_measurement>0:\n",
    "                continue\n",
    "        \n",
    "            # Calculate the means over each meter\n",
    "            y_means_B4 = average(x_val_B4, y_val_B4, 1, 140, 170)\n",
    "            y_means_B5 = average(x_val_B5, y_val_B5, 1, 140, 170)\n",
    "\n",
    "            #Calculate the error and put it in a dictionary\n",
    "            if score_type == 'Sqr':\n",
    "                dict[coil] = sqr_score(y_means_B4, y_means_B5)\n",
    "            if score_type == 'Max':\n",
    "                dict[coil] = max_score(y_means_B4, y_means_B5)\n",
    "\n",
    "    # We store the data in a pandas Dataframe\n",
    "    score_values = pd.Series(dict).sort_values(ascending=False)  \n",
    "    score_values = score_values.dropna() \n",
    "    score_values.name = score_type + '_score'\n",
    "    return score_values"
   ]
  },
  {
   "cell_type": "markdown",
   "metadata": {},
   "source": [
    "# Create csv with target column"
   ]
  },
  {
   "cell_type": "code",
   "execution_count": 15,
   "metadata": {},
   "outputs": [],
   "source": [
    "def scores_to_csv(score_type:str) -> None:\n",
    "    '''\n",
    "    Function that that creates .csv from CoilData.csv and add the scores for each coil to it.\n",
    "\n",
    "    :param score_type: str that must be either Sqr or Max depending on the type of scoring one uses\n",
    "    '''\n",
    "    new_coil_data = coil_data.join(score_table(score_type), how='inner')\n",
    "    new_coil_data.index.names = ['coil']\n",
    "    new_coil_data.to_csv('./NewData/Coil'+score_type+'Error.csv')"
   ]
  },
  {
   "cell_type": "code",
   "execution_count": 16,
   "metadata": {},
   "outputs": [],
   "source": [
    "# create the appropriate csv files\n",
    "\n",
    "#scores_to_csv('Sqr')\n",
    "#scores_to_csv('Max')"
   ]
  },
  {
   "cell_type": "markdown",
   "metadata": {},
   "source": [
    "# Visualisation"
   ]
  },
  {
   "cell_type": "code",
   "execution_count": 17,
   "metadata": {},
   "outputs": [],
   "source": [
    "def coilgraph(coil_number: Union[int, str], x_low: int, x_up:int) -> None:\n",
    "    '''\n",
    "    Function that shows the graphs of the width of a coil before and after hot rolling\n",
    "\n",
    "    :param coil_number: int or string that represents the coil\n",
    "    :param x_low: int that represents the lower bound of the x-axis\n",
    "    :param x_up: int that represents the upper bound of the x-axis\n",
    "    '''\n",
    "    x_val, y_val = get_values(coil_number, 'B4')\n",
    "    x_val_5, y_val_5 = get_values(coil_number, 'B5')\n",
    "    ax = plt.subplot(111)\n",
    "    ax.plot(x_val, y_val, color='red')\n",
    "    ax.plot(x_val_5, y_val_5, color='b')\n",
    "    plt.ylim([y_val[-1]-10, y_val[-1]+10])\n",
    "    plt.xlim([x_low, x_up])\n",
    "    plt.title(f'coil: {coil_number}')\n",
    "    plt.legend(['B4', 'B5'])\n",
    "    plt.show()"
   ]
  },
  {
   "cell_type": "code",
   "execution_count": 19,
   "metadata": {},
   "outputs": [],
   "source": [
    "coilgraph('435014', 100,170)"
   ]
  },
  {
   "cell_type": "code",
   "execution_count": null,
   "metadata": {},
   "outputs": [],
   "source": []
  }
 ],
 "metadata": {
  "interpreter": {
   "hash": "35c267216a8a9a5de802732b368407c9e859165faf5cda25a6a24bab33258039"
  },
  "kernelspec": {
   "display_name": "Python 3 (ipykernel)",
   "language": "python",
   "name": "python3"
  },
  "language_info": {
   "codemirror_mode": {
    "name": "ipython",
    "version": 3
   },
   "file_extension": ".py",
   "mimetype": "text/x-python",
   "name": "python",
   "nbconvert_exporter": "python",
   "pygments_lexer": "ipython3",
   "version": "3.9.7"
  }
 },
 "nbformat": 4,
 "nbformat_minor": 2
}
