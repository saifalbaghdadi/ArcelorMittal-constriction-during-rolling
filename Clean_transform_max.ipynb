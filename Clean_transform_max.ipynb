{
 "cells": [
  {
   "cell_type": "markdown",
   "metadata": {},
   "source": [
    "# Cleanup / Preprocess for algoritme 'max'"
   ]
  },
  {
   "cell_type": "markdown",
   "metadata": {},
   "source": [
    "# Cleanup"
   ]
  },
  {
   "cell_type": "code",
   "execution_count": 14,
   "metadata": {},
   "outputs": [],
   "source": [
    "import pandas as pd\n",
    "import matplotlib.pyplot as plt\n",
    "\n",
    "# Cleanup the data and reformat\n",
    "#\n",
    "# INPUT: './NewData/CoilMaxError.csv'\n",
    "#\n",
    "# OUTPUT: './NewData/CoilMaxClean.csv'\n",
    "#\n",
    "inputfile='./NewData/CoilMaxError.csv'\n",
    "outputfile='./NewData/CoilMaxClean.csv'\n",
    "\n",
    "df = pd.read_csv(inputfile)\n",
    "\n",
    "#remove rows with empty field in column 'analyse'\n",
    "df=df.drop(df.index[df['analyse'] == '     '])\n",
    "\n",
    "##split 'analyse' into 'maingroup' and 'subgroup' and drop 'analyse'\n",
    "df['maingroup']=df['analyse'].str[0:3]\n",
    "#df['subgroup']=df['analyse'].str[3]\n",
    "# transform to categorical \n",
    "df=pd.get_dummies(df,columns=['maingroup'])\n",
    "# force int type\n",
    "#df['subgroup']=df['subgroup'].astype(int)\n",
    "\n",
    "\n",
    "# cleanup 'Thickness profile' and set to float\n",
    "#df=df.drop(df.index[df['Thickness profile'] == '*******'])\n",
    "#df['Thickness profile']=df['Thickness profile'].astype(float)\n",
    "\n",
    "# remove columns\n",
    "remove_columns=['analyse','coil']\n",
    "df = df.drop(columns=remove_columns)\n",
    " \n",
    "# remove non int and float columns\n",
    "col_list = list(df.dtypes[(df.dtypes == 'int64') | (df.dtypes == 'float64') | (df.dtypes == 'uint8')].index)\n",
    "df=df[col_list]\n",
    "\n",
    "\n",
    "\n",
    "# remove all zeros form continuous columns\n",
    "df = df.drop(index=list((df[df['Hardness_2']<10]).index))\n",
    "df = df.drop(index=list((df[df['Width']<10]).index))\n",
    "df = df.drop(index=list((df[df['Temperature before finishing mill']<10]).index))\n",
    "df = df.drop(index=list((df[df['Temperature after finishing mill']<10]).index))\n",
    "df = df.drop(index=list((df[df['Thickness']<0.5]).index))\n",
    "\n",
    "\n",
    "#save data\n",
    "\n",
    "df.to_csv(outputfile,index=False)\n",
    "\n"
   ]
  },
  {
   "cell_type": "markdown",
   "metadata": {},
   "source": [
    "# Transform label"
   ]
  },
  {
   "cell_type": "code",
   "execution_count": 15,
   "metadata": {},
   "outputs": [
    {
     "name": "stdout",
     "output_type": "stream",
     "text": [
      "Constricted (%):  4.768856447688565\n"
     ]
    }
   ],
   "source": [
    "import numpy as np\n",
    "import pandas as pd\n",
    "import matplotlib.pyplot as plt\n",
    "import seaborn as sns\n",
    "import os\n",
    "from os.path import exists\n",
    "\n",
    "# Transform the label using threshold for max algoritme\n",
    "#\n",
    "# INPUT: './NewData/CoilMaxClean.csv'\n",
    "#\n",
    "# OUTPUT: './NewData/Coillabeled.csv'\n",
    "#\n",
    "\n",
    "inputfile='./NewData/CoilMaxClean.csv'\n",
    "outputfile='./NewData/Coillabeled.csv'\n",
    "\n",
    "df = pd.read_csv(inputfile)\n",
    "\n",
    "# set a treshold to create labels 0 or 1 from Max_error\n",
    "treshold =4 \n",
    "y = df['max_error'].apply(lambda x: 1 if x>treshold else 0)\n",
    "print(\"Constricted (%): \",100*y.sum()/len(y))\n",
    "     \n",
    "df=df.drop(columns=['max_error'])\n",
    "df['label']=y\n",
    "\n",
    "# save\n",
    "\n",
    "df.to_csv(outputfile,index=False)\n"
   ]
  },
  {
   "cell_type": "code",
   "execution_count": null,
   "metadata": {},
   "outputs": [],
   "source": []
  }
 ],
 "metadata": {
  "interpreter": {
   "hash": "35c267216a8a9a5de802732b368407c9e859165faf5cda25a6a24bab33258039"
  },
  "kernelspec": {
   "display_name": "Python 3 (ipykernel)",
   "language": "python",
   "name": "python3"
  },
  "language_info": {
   "codemirror_mode": {
    "name": "ipython",
    "version": 3
   },
   "file_extension": ".py",
   "mimetype": "text/x-python",
   "name": "python",
   "nbconvert_exporter": "python",
   "pygments_lexer": "ipython3",
   "version": "3.8.8"
  }
 },
 "nbformat": 4,
 "nbformat_minor": 2
}
